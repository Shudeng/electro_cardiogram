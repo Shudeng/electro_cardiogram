{
 "cells": [
  {
   "cell_type": "code",
   "execution_count": null,
   "metadata": {},
   "outputs": [],
   "source": [
    "%matplotlib inline\n",
    "import sys\n",
    "sys.path.insert(0, '..')\n",
    "from IPython.display import SVG\n",
    "from matplotlib import pyplot as plt\n",
    "import numpy as np\n",
    "import matplotlib.pyplot as plt"
   ]
  },
  {
   "cell_type": "code",
   "execution_count": null,
   "metadata": {},
   "outputs": [],
   "source": [
    "def plot_electro_cardiogram(filename, label):\n",
    "    with open('/mnt/train/'+filename, 'r') as f:\n",
    "        lines = f.readlines()\n",
    "\n",
    "    features = []\n",
    "\n",
    "    for i in range(1, len(lines)):\n",
    "        line = lines[i].rstrip()\n",
    "        feature = line.split(' ')\n",
    "        features.append(feature)\n",
    "        \n",
    "    features = np.array(features)\n",
    "    features = features.astype('float64')\n",
    "    fig = plt.figure()\n",
    "    plt.figure(figsize=(80, 50))\n",
    "    plt.tick_params(labelsize=70)\n",
    "#     plt.title(label,fontsize=150)\n",
    "    plt.title(\"\",fontsize=150)\n",
    "    for i in range(8):\n",
    "        plt.plot(features[:, i])\n",
    "#     plt.show()\n",
    "    plt.savefig(\"./img/\"+label+\".png\")\n",
    "    plt.close()\n",
    "    "
   ]
  },
  {
   "cell_type": "code",
   "execution_count": null,
   "metadata": {},
   "outputs": [],
   "source": [
    "def watch_by_id(id):\n",
    "    with open(\"/mnt/hf_round1_label.txt\") as f:\n",
    "        lines = f.readlines()\n",
    "    \n",
    "    new_lines = []\n",
    "    id_str = str(id)+\".txt\"\n",
    "    find = False\n",
    "    for line in lines:\n",
    "        line=line.split(\"\\t\", 1)       \n",
    "#         new_line = []\n",
    "#         new_line.append(line[0])\n",
    "#         new_line.append(line[1].replace(\"\\t\", \" \").replace(\"\\n\",\" \"))\n",
    "        if line[0]==id_str:\n",
    "            find=True\n",
    "            label = line[1].replace(\"\\t\", \" \").replace(\"\\n\",\" \")\n",
    "#         new_lines.append(new_line)\n",
    "    \n",
    "    if not find:\n",
    "        print(find)\n",
    "        return\n",
    "    \n",
    "    plot_electro_cardiogram(id_str, label)\n",
    "    \n",
    "for i in range(100):\n",
    "    print(i)\n",
    "    watch_by_id(i)\n",
    "    \n",
    "    "
   ]
  },
  {
   "cell_type": "code",
   "execution_count": null,
   "metadata": {},
   "outputs": [],
   "source": []
  },
  {
   "cell_type": "code",
   "execution_count": null,
   "metadata": {},
   "outputs": [],
   "source": []
  },
  {
   "cell_type": "code",
   "execution_count": null,
   "metadata": {},
   "outputs": [],
   "source": []
  },
  {
   "cell_type": "code",
   "execution_count": null,
   "metadata": {},
   "outputs": [],
   "source": []
  },
  {
   "cell_type": "code",
   "execution_count": null,
   "metadata": {},
   "outputs": [],
   "source": []
  },
  {
   "cell_type": "code",
   "execution_count": null,
   "metadata": {},
   "outputs": [],
   "source": []
  },
  {
   "cell_type": "code",
   "execution_count": null,
   "metadata": {},
   "outputs": [],
   "source": []
  },
  {
   "cell_type": "code",
   "execution_count": null,
   "metadata": {},
   "outputs": [],
   "source": []
  },
  {
   "cell_type": "code",
   "execution_count": null,
   "metadata": {},
   "outputs": [],
   "source": []
  },
  {
   "cell_type": "code",
   "execution_count": null,
   "metadata": {},
   "outputs": [],
   "source": []
  },
  {
   "cell_type": "code",
   "execution_count": null,
   "metadata": {},
   "outputs": [],
   "source": []
  },
  {
   "cell_type": "code",
   "execution_count": null,
   "metadata": {},
   "outputs": [],
   "source": []
  },
  {
   "cell_type": "code",
   "execution_count": null,
   "metadata": {},
   "outputs": [],
   "source": []
  }
 ],
 "metadata": {
  "kernelspec": {
   "display_name": "Python 3",
   "language": "python",
   "name": "python3"
  },
  "language_info": {
   "codemirror_mode": {
    "name": "ipython",
    "version": 3
   },
   "file_extension": ".py",
   "mimetype": "text/x-python",
   "name": "python",
   "nbconvert_exporter": "python",
   "pygments_lexer": "ipython3",
   "version": "3.7.3"
  }
 },
 "nbformat": 4,
 "nbformat_minor": 2
}
