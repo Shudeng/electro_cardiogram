{
 "cells": [
  {
   "cell_type": "code",
   "execution_count": 1,
   "metadata": {},
   "outputs": [],
   "source": [
    "from torch.utils.data.dataset import Dataset\n",
    "from load_data import DataHelper"
   ]
  },
  {
   "cell_type": "code",
   "execution_count": 2,
   "metadata": {},
   "outputs": [
    {
     "name": "stdout",
     "output_type": "stream",
     "text": [
      "/home/wushudeng/electro_cardiogram/data/train\r\n"
     ]
    }
   ],
   "source": [
    "! cd data && cd train && pwd"
   ]
  },
  {
   "cell_type": "code",
   "execution_count": 10,
   "metadata": {},
   "outputs": [],
   "source": [
    "import os\n",
    "from load_data import DataHelper\n",
    "def list_ids():\n",
    "    \"\"\"\n",
    "    return ids of all train data, each id is filename of one sample file.\n",
    "    \"\"\"\n",
    "    train_path = \"/home/wushudeng/electro_cardiogram/data/train\"\n",
    "    files = [f for f in os.listdir(train_path) if os.path.isfile(os.path.join(train_path, f))]\n",
    "    return files\n",
    "# print(list_ids()[1:10])"
   ]
  },
  {
   "cell_type": "code",
   "execution_count": 14,
   "metadata": {},
   "outputs": [
    {
     "name": "stdout",
     "output_type": "stream",
     "text": [
      "[['54', 'MALE', '窦性心律', '正常ECG'], ['44', 'FEMALE', '窦性心律', '正常ECG'], ['24', 'FEMALE', '窦性心律', '正常ECG'], ['33', 'FEMALE', '窦性心动过缓', 'QRS低电压'], ['44', 'FEMALE', '窦性心律', 'ST段改变'], ['50', 'MALE', '窦性心动过速', '完全性右束支传导阻滞', 'ST段改变'], ['29', 'FEMALE', '窦性心律不齐', 'T波改变'], ['23', 'MALE', '窦性心律', '窦性心律不齐', '左心室高电压'], ['57', 'MALE', '窦性心律', '房性早搏'], ['26', 'FEMALE', '窦性心律', 'QRS低电压']]\n"
     ]
    }
   ],
   "source": [
    "def list_labels(list_ids):\n",
    "    helper = DataHelper()\n",
    "    labels = []\n",
    "    for list_id in list_ids:\n",
    "        labels.append(\n",
    "            helper.get_label_by_txtname(list_id)\n",
    "        )\n",
    "    return labels\n",
    "\n",
    "labels = list_labels(list_ids())\n",
    "print(labels[:10])\n",
    "    \n",
    "    "
   ]
  },
  {
   "cell_type": "code",
   "execution_count": 25,
   "metadata": {},
   "outputs": [],
   "source": [
    "from torch.utils.data.dataset import Dataset\n",
    "from load_data import DataHelper\n",
    "\n",
    "class CardiogramDataSet(Dataset):\n",
    "    def __init__(self, list_ids, labels):\n",
    "        self.helper = DataHelper()\n",
    "        self.list_ids = self.helper.list_ids()\n",
    "        self.labels = self.helper.list_labels()\n",
    "        \n",
    "    def __getitem__(self, index):\n",
    "        features, num_labesl, labels = self.helper.get_patient_feature_and_label(\n",
    "            self.list_ids[index] # this is the index-th filename in train folder.\n",
    "        )\n",
    "        \n",
    "        return torch.FloatTensor(features), num_labels\n",
    "        \n",
    "        \n",
    "    def __len__(self):\n",
    "        return len(self.list_ids)"
   ]
  },
  {
   "cell_type": "code",
   "execution_count": 26,
   "metadata": {},
   "outputs": [
    {
     "name": "stdout",
     "output_type": "stream",
     "text": [
      "tensor([[1., 2., 3., 4.],\n",
      "        [5., 6., 7., 8.]])\n"
     ]
    }
   ],
   "source": [
    "import torch\n",
    "features = [\n",
    "    [1, 2,3,4],\n",
    "    [5,6,7,8]\n",
    "]\n",
    "\n",
    "print(torch.FloatTensor(features))"
   ]
  },
  {
   "cell_type": "code",
   "execution_count": null,
   "metadata": {},
   "outputs": [],
   "source": []
  }
 ],
 "metadata": {
  "kernelspec": {
   "display_name": "Python 3",
   "language": "python",
   "name": "python3"
  },
  "language_info": {
   "codemirror_mode": {
    "name": "ipython",
    "version": 3
   },
   "file_extension": ".py",
   "mimetype": "text/x-python",
   "name": "python",
   "nbconvert_exporter": "python",
   "pygments_lexer": "ipython3",
   "version": "3.7.3"
  }
 },
 "nbformat": 4,
 "nbformat_minor": 2
}
